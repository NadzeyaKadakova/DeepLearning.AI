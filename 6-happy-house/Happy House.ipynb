{
 "cells": [
  {
   "cell_type": "markdown",
   "metadata": {},
   "source": [
    "# Keras tutorial - the Happy House\n",
    "\n",
    "\n",
    "Keras was developed to enable deep learning engineers to build and experiment with different models very quickly. Just as TensorFlow is a higher-level framework than Python, Keras is an even higher-level framework and provides additional abstractions. Being able to go from idea to result with the least possible delay is key to finding good models. However, Keras is more restrictive than the lower-level frameworks, so there are some very complex models that we can implement in TensorFlow but not (without more difficulty) in Keras. That being said, Keras will work fine for many common models. \n",
    "\n",
    "In this exercise, I'll work on the \"Happy House\" problem, which will be explained below. "
   ]
  },
  {
   "cell_type": "code",
   "execution_count": 1,
   "metadata": {},
   "outputs": [
    {
     "name": "stderr",
     "output_type": "stream",
     "text": [
      "/Users/nadine/anaconda/lib/python3.6/site-packages/h5py/__init__.py:34: FutureWarning: Conversion of the second argument of issubdtype from `float` to `np.floating` is deprecated. In future, it will be treated as `np.float64 == np.dtype(float).type`.\n",
      "  from ._conv import register_converters as _register_converters\n",
      "Using TensorFlow backend.\n"
     ]
    }
   ],
   "source": [
    "import numpy as np\n",
    "from keras import layers\n",
    "from keras.layers import Input, Dense, Activation, ZeroPadding2D, BatchNormalization, Flatten, Conv2D\n",
    "from keras.layers import AveragePooling2D, MaxPooling2D, Dropout, GlobalMaxPooling2D, GlobalAveragePooling2D\n",
    "from keras.models import Model\n",
    "from keras.preprocessing import image\n",
    "from keras.utils import layer_utils\n",
    "from keras.utils.data_utils import get_file\n",
    "from keras.applications.imagenet_utils import preprocess_input\n",
    "import pydot\n",
    "from IPython.display import SVG\n",
    "from keras.utils.vis_utils import model_to_dot\n",
    "from keras.utils import plot_model\n",
    "from kt_utils import *\n",
    "\n",
    "import keras.backend as K\n",
    "K.set_image_data_format('channels_last')\n",
    "import matplotlib.pyplot as plt\n",
    "from matplotlib.pyplot import imshow\n",
    "\n",
    "%matplotlib inline"
   ]
  },
  {
   "cell_type": "markdown",
   "metadata": {},
   "source": [
    "## 1 - The Happy House Problem\n",
    "\n",
    "\"For your next vacation, you decided to spend a week with five of your friends from school. It is a very convenient house with many things to do nearby. But the most important benefit is that everybody has commited to be happy when they are in the house. So anyone wanting to enter the house must prove their current state of happiness.\n",
    "\n",
    "<img src=\"images/happy-house.jpg\" style=\"width:350px;height:270px;\">\n",
    "<caption><center> <u> <font color='purple'> **Figure 1** </u><font color='purple'>  : **the Happy House**</center></caption>\n",
    "\n",
    "\n",
    "As a deep learning expert, to make sure the \"Happy\" rule is strictly applied, you are going to build an algorithm which that uses pictures from the front door camera to check if the person is happy or not. The door should open only if the person is happy. \n",
    "\n",
    "You have gathered pictures of your friends and yourself, taken by the front-door camera. The dataset is labbeled.\" \n",
    "\n",
    "<img src=\"images/house-members.png\" style=\"width:550px;height:250px;\">\n"
   ]
  },
  {
   "cell_type": "code",
   "execution_count": 2,
   "metadata": {},
   "outputs": [
    {
     "name": "stdout",
     "output_type": "stream",
     "text": [
      "number of training examples = 600\n",
      "number of test examples = 150\n",
      "X_train shape: (600, 64, 64, 3)\n",
      "Y_train shape: (600, 1)\n",
      "X_test shape: (150, 64, 64, 3)\n",
      "Y_test shape: (150, 1)\n"
     ]
    }
   ],
   "source": [
    "X_train_orig, Y_train_orig, X_test_orig, Y_test_orig, classes = load_dataset()\n",
    "\n",
    "# Normalize image vectors\n",
    "X_train = X_train_orig/255.\n",
    "X_test = X_test_orig/255.\n",
    "\n",
    "# Reshape\n",
    "Y_train = Y_train_orig.T\n",
    "Y_test = Y_test_orig.T\n",
    "\n",
    "print (\"number of training examples = \" + str(X_train.shape[0]))\n",
    "print (\"number of test examples = \" + str(X_test.shape[0]))\n",
    "print (\"X_train shape: \" + str(X_train.shape))\n",
    "print (\"Y_train shape: \" + str(Y_train.shape))\n",
    "print (\"X_test shape: \" + str(X_test.shape))\n",
    "print (\"Y_test shape: \" + str(Y_test.shape))"
   ]
  },
  {
   "cell_type": "markdown",
   "metadata": {},
   "source": [
    "**Details of the \"Happy\" dataset**:\n",
    "- Images are of shape (64,64,3)\n",
    "- Training: 600 pictures\n",
    "- Test: 150 pictures\n",
    "\n",
    "It is now time to solve the \"Happy\" Challenge."
   ]
  },
  {
   "cell_type": "markdown",
   "metadata": {},
   "source": [
    "## 2 - Building a model in Keras\n",
    "\n",
    "\n",
    "! Keras uses a different convention with variable names than we've previously used with numpy and TensorFlow. In particular, rather than creating and assigning a new variable on each step of forward propagation such as `X`, `Z1`, `A1`, `Z2`, `A2`, etc. for the computations for the different layers, in Keras code each line above just reassigns `X` to a new value using `X = ...`. In other words, during each step of forward propagation, we are just writing the latest value in the commputation into the same variable `X`. The only exception was `X_input`, which we kept separate and did not overwrite, since we needed it at the end to create the Keras model instance (`model = Model(inputs = X_input, ...)` above). \n"
   ]
  },
  {
   "cell_type": "code",
   "execution_count": 3,
   "metadata": {
    "collapsed": true
   },
   "outputs": [],
   "source": [
    "#HappyModel\n",
    "\n",
    "def HappyModel(input_shape):\n",
    "    \"\"\"\n",
    "    Implementation of the HappyModel.\n",
    "    \n",
    "    Arguments:\n",
    "    input_shape -- shape of the images of the dataset\n",
    "\n",
    "    Returns:\n",
    "    model -- a Model() instance in Keras\n",
    "    \"\"\"\n",
    "\n",
    "    X_input = Input(input_shape)\n",
    "\n",
    "    # Zero-Padding: pads the border of X_input with zeroes\n",
    "    X = ZeroPadding2D((3, 3))(X_input)\n",
    "\n",
    "    # CONV -> BN -> RELU Block applied to X\n",
    "    X = Conv2D(32, (7, 7), strides=(1, 1), name='conv0')(X)\n",
    "    X = BatchNormalization(axis=3, name='bn0')(X)\n",
    "    X = Activation('relu')(X)\n",
    "\n",
    "    # MAXPOOL\n",
    "    X = MaxPooling2D((2, 2), name='max_pool')(X)\n",
    "\n",
    "    # FLATTEN X (means convert it to a vector) + FULLYCONNECTED\n",
    "    X = Flatten()(X)\n",
    "    X = Dense(1, activation='sigmoid', name='fc')(X)\n",
    "\n",
    "    # Create model. This creates Keras model instance, I'll use this instance to train/test the model.\n",
    "    model = Model(inputs=X_input, outputs=X, name='HappyModel')\n",
    "\n",
    "    return model"
   ]
  },
  {
   "cell_type": "markdown",
   "metadata": {},
   "source": [
    "I have now built a function to describe my model. To train and test this model, there are four steps in Keras:\n",
    "1. Create the model by calling the function above\n",
    "2. Compile the model by calling `model.compile(optimizer = \"...\", loss = \"...\", metrics = [\"accuracy\"])`\n",
    "3. Train the model on train data by calling `model.fit(x = ..., y = ..., epochs = ..., batch_size = ...)`\n",
    "4. Test the model on test data by calling `model.evaluate(x = ..., y = ...)`\n",
    "\n",
    "!! [Keras documentation](https://keras.io/models/model/).\n"
   ]
  },
  {
   "cell_type": "code",
   "execution_count": 4,
   "metadata": {
    "collapsed": true
   },
   "outputs": [],
   "source": [
    "#1\n",
    "happyModel = HappyModel(X_train.shape[1:])"
   ]
  },
  {
   "cell_type": "code",
   "execution_count": 5,
   "metadata": {
    "collapsed": true
   },
   "outputs": [],
   "source": [
    "#2\n",
    "happyModel.compile('adam', 'binary_crossentropy', metrics=['accuracy'])"
   ]
  },
  {
   "cell_type": "code",
   "execution_count": 6,
   "metadata": {},
   "outputs": [
    {
     "name": "stdout",
     "output_type": "stream",
     "text": [
      "Epoch 1/40\n",
      "600/600 [==============================] - 9s 16ms/step - loss: 3.1431 - acc: 0.5217\n",
      "Epoch 2/40\n",
      "600/600 [==============================] - 11s 18ms/step - loss: 0.6923 - acc: 0.7800\n",
      "Epoch 3/40\n",
      "600/600 [==============================] - 9s 15ms/step - loss: 0.3575 - acc: 0.8433\n",
      "Epoch 4/40\n",
      "600/600 [==============================] - 9s 14ms/step - loss: 0.2123 - acc: 0.9217\n",
      "Epoch 5/40\n",
      "600/600 [==============================] - 9s 15ms/step - loss: 0.1602 - acc: 0.9317\n",
      "Epoch 6/40\n",
      "600/600 [==============================] - 9s 14ms/step - loss: 0.1640 - acc: 0.9383\n",
      "Epoch 7/40\n",
      "600/600 [==============================] - 9s 14ms/step - loss: 0.1156 - acc: 0.9633\n",
      "Epoch 8/40\n",
      "600/600 [==============================] - 9s 15ms/step - loss: 0.0904 - acc: 0.9833\n",
      "Epoch 9/40\n",
      "600/600 [==============================] - 9s 15ms/step - loss: 0.0833 - acc: 0.9733\n",
      "Epoch 10/40\n",
      "600/600 [==============================] - 10s 16ms/step - loss: 0.0763 - acc: 0.9833\n",
      "Epoch 11/40\n",
      "600/600 [==============================] - 9s 15ms/step - loss: 0.0715 - acc: 0.9817\n",
      "Epoch 12/40\n",
      "600/600 [==============================] - 9s 14ms/step - loss: 0.0620 - acc: 0.9900\n",
      "Epoch 13/40\n",
      "600/600 [==============================] - 9s 15ms/step - loss: 0.0539 - acc: 0.9883\n",
      "Epoch 14/40\n",
      "600/600 [==============================] - 9s 15ms/step - loss: 0.0528 - acc: 0.9867\n",
      "Epoch 15/40\n",
      "600/600 [==============================] - 9s 15ms/step - loss: 0.0549 - acc: 0.9833\n",
      "Epoch 16/40\n",
      "600/600 [==============================] - 9s 15ms/step - loss: 0.0557 - acc: 0.9850\n",
      "Epoch 17/40\n",
      "600/600 [==============================] - 10s 16ms/step - loss: 0.0489 - acc: 0.9883\n",
      "Epoch 18/40\n",
      "600/600 [==============================] - 9s 15ms/step - loss: 0.0454 - acc: 0.9800\n",
      "Epoch 19/40\n",
      "600/600 [==============================] - 9s 14ms/step - loss: 0.0597 - acc: 0.9850\n",
      "Epoch 20/40\n",
      "600/600 [==============================] - 9s 15ms/step - loss: 0.0415 - acc: 0.9900\n",
      "Epoch 21/40\n",
      "600/600 [==============================] - 9s 15ms/step - loss: 0.0357 - acc: 0.9933\n",
      "Epoch 22/40\n",
      "600/600 [==============================] - 8s 14ms/step - loss: 0.0303 - acc: 0.9933\n",
      "Epoch 23/40\n",
      "600/600 [==============================] - 9s 16ms/step - loss: 0.0358 - acc: 0.9917\n",
      "Epoch 24/40\n",
      "600/600 [==============================] - 9s 15ms/step - loss: 0.0351 - acc: 0.9933\n",
      "Epoch 25/40\n",
      "600/600 [==============================] - 9s 14ms/step - loss: 0.0348 - acc: 0.9883\n",
      "Epoch 26/40\n",
      "600/600 [==============================] - 9s 15ms/step - loss: 0.0332 - acc: 0.9917\n",
      "Epoch 27/40\n",
      "600/600 [==============================] - 9s 15ms/step - loss: 0.0361 - acc: 0.9933\n",
      "Epoch 28/40\n",
      "600/600 [==============================] - 9s 15ms/step - loss: 0.0322 - acc: 0.9883\n",
      "Epoch 29/40\n",
      "600/600 [==============================] - 9s 15ms/step - loss: 0.0368 - acc: 0.9850\n",
      "Epoch 30/40\n",
      "600/600 [==============================] - 9s 14ms/step - loss: 0.0275 - acc: 0.9917\n",
      "Epoch 31/40\n",
      "600/600 [==============================] - 9s 15ms/step - loss: 0.0249 - acc: 0.9933\n",
      "Epoch 32/40\n",
      "600/600 [==============================] - 10s 16ms/step - loss: 0.0202 - acc: 0.9967\n",
      "Epoch 33/40\n",
      "600/600 [==============================] - 10s 17ms/step - loss: 0.0295 - acc: 0.9900\n",
      "Epoch 34/40\n",
      "600/600 [==============================] - 9s 16ms/step - loss: 0.0212 - acc: 0.9950\n",
      "Epoch 35/40\n",
      "600/600 [==============================] - 10s 17ms/step - loss: 0.0232 - acc: 0.9933\n",
      "Epoch 36/40\n",
      "600/600 [==============================] - 10s 17ms/step - loss: 0.0297 - acc: 0.9917\n",
      "Epoch 37/40\n",
      "600/600 [==============================] - 9s 15ms/step - loss: 0.0175 - acc: 0.9983\n",
      "Epoch 38/40\n",
      "600/600 [==============================] - 9s 15ms/step - loss: 0.0217 - acc: 0.9950\n",
      "Epoch 39/40\n",
      "600/600 [==============================] - 9s 15ms/step - loss: 0.0222 - acc: 0.9917\n",
      "Epoch 40/40\n",
      "600/600 [==============================] - 9s 15ms/step - loss: 0.0161 - acc: 0.9950\n"
     ]
    },
    {
     "data": {
      "text/plain": [
       "<keras.callbacks.History at 0x123a593c8>"
      ]
     },
     "execution_count": 6,
     "metadata": {},
     "output_type": "execute_result"
    }
   ],
   "source": [
    "#3\n",
    "happyModel.fit(X_train, Y_train, epochs=40, batch_size=50)"
   ]
  },
  {
   "cell_type": "code",
   "execution_count": null,
   "metadata": {
    "collapsed": true,
    "scrolled": true
   },
   "outputs": [],
   "source": [
    "#4\n",
    "preds = happyModel.evaluate(X_test, Y_test, batch_size=32, verbose=1, sample_weight=None)\n",
    "print()\n",
    "print (\"Loss = \" + str(preds[0]))\n",
    "print (\"Test Accuracy = \" + str(preds[1]))"
   ]
  },
  {
   "cell_type": "markdown",
   "metadata": {},
   "source": [
    "Some ways to achieve good accuracy (let's say more than 80%):\n",
    "\n",
    "- using blocks of CONV->BATCHNORM->RELU such as:\n",
    "```python\n",
    "X = Conv2D(32, (3, 3), strides = (1, 1), name = 'conv0')(X)\n",
    "X = BatchNormalization(axis = 3, name = 'bn0')(X)\n",
    "X = Activation('relu')(X)\n",
    "```\n",
    "until height and width dimensions are quite low and the number of channels quite large (≈32 for example). We are encoding useful information in a volume with a lot of channels. We can then flatten the volume and use a fully-connected layer.\n",
    "- We can use MAXPOOL after such blocks. It will help us lower the dimension in height and width.\n",
    "- Change the optimizer. I find Adam works well. \n",
    "- If the model is struggling to run and there are memory issues, lower the batch_size (12 is usually a good compromise)\n",
    "- Run on more epochs, until seeing the train accuracy plateauing. \n"
   ]
  },
  {
   "cell_type": "markdown",
   "metadata": {},
   "source": [
    "## 5 - Other useful functions in Keras \n",
    "\n",
    "- `model.summary()`: prints the details of the layers in a table with the sizes of its inputs/outputs\n",
    "- `plot_model()`: plots the graph in a nice layout\n"
   ]
  },
  {
   "cell_type": "code",
   "execution_count": 8,
   "metadata": {
    "scrolled": false
   },
   "outputs": [
    {
     "name": "stdout",
     "output_type": "stream",
     "text": [
      "_________________________________________________________________\n",
      "Layer (type)                 Output Shape              Param #   \n",
      "=================================================================\n",
      "input_1 (InputLayer)         (None, 64, 64, 3)         0         \n",
      "_________________________________________________________________\n",
      "zero_padding2d_1 (ZeroPaddin (None, 70, 70, 3)         0         \n",
      "_________________________________________________________________\n",
      "conv0 (Conv2D)               (None, 64, 64, 32)        4736      \n",
      "_________________________________________________________________\n",
      "bn0 (BatchNormalization)     (None, 64, 64, 32)        128       \n",
      "_________________________________________________________________\n",
      "activation_1 (Activation)    (None, 64, 64, 32)        0         \n",
      "_________________________________________________________________\n",
      "max_pool (MaxPooling2D)      (None, 32, 32, 32)        0         \n",
      "_________________________________________________________________\n",
      "flatten_1 (Flatten)          (None, 32768)             0         \n",
      "_________________________________________________________________\n",
      "fc (Dense)                   (None, 1)                 32769     \n",
      "=================================================================\n",
      "Total params: 37,633\n",
      "Trainable params: 37,569\n",
      "Non-trainable params: 64\n",
      "_________________________________________________________________\n"
     ]
    }
   ],
   "source": [
    "happyModel.summary()"
   ]
  },
  {
   "cell_type": "code",
   "execution_count": 9,
   "metadata": {},
   "outputs": [
    {
     "data": {
      "image/svg+xml": [
       "<svg height=\"556pt\" viewBox=\"0.00 0.00 225.01 556.00\" width=\"225pt\" xmlns=\"http://www.w3.org/2000/svg\" xmlns:xlink=\"http://www.w3.org/1999/xlink\">\n",
       "<g class=\"graph\" id=\"graph0\" transform=\"scale(1 1) rotate(0) translate(4 552)\">\n",
       "<title>G</title>\n",
       "<polygon fill=\"white\" points=\"-4,4 -4,-552 221.011,-552 221.011,4 -4,4\" stroke=\"none\"/>\n",
       "<!-- 4799162408 -->\n",
       "<g class=\"node\" id=\"node1\"><title>4799162408</title>\n",
       "<polygon fill=\"none\" points=\"44.3242,-511.5 44.3242,-547.5 172.687,-547.5 172.687,-511.5 44.3242,-511.5\" stroke=\"black\"/>\n",
       "<text font-family=\"Times,serif\" font-size=\"14.00\" text-anchor=\"middle\" x=\"108.505\" y=\"-525.3\">input_1: InputLayer</text>\n",
       "</g>\n",
       "<!-- 4799143496 -->\n",
       "<g class=\"node\" id=\"node2\"><title>4799143496</title>\n",
       "<polygon fill=\"none\" points=\"0,-438.5 0,-474.5 217.011,-474.5 217.011,-438.5 0,-438.5\" stroke=\"black\"/>\n",
       "<text font-family=\"Times,serif\" font-size=\"14.00\" text-anchor=\"middle\" x=\"108.505\" y=\"-452.3\">zero_padding2d_1: ZeroPadding2D</text>\n",
       "</g>\n",
       "<!-- 4799162408&#45;&gt;4799143496 -->\n",
       "<g class=\"edge\" id=\"edge1\"><title>4799162408-&gt;4799143496</title>\n",
       "<path d=\"M108.505,-511.313C108.505,-503.289 108.505,-493.547 108.505,-484.569\" fill=\"none\" stroke=\"black\"/>\n",
       "<polygon fill=\"black\" points=\"112.005,-484.529 108.505,-474.529 105.005,-484.529 112.005,-484.529\" stroke=\"black\"/>\n",
       "</g>\n",
       "<!-- 4799140752 -->\n",
       "<g class=\"node\" id=\"node3\"><title>4799140752</title>\n",
       "<polygon fill=\"none\" points=\"55.9795,-365.5 55.9795,-401.5 161.031,-401.5 161.031,-365.5 55.9795,-365.5\" stroke=\"black\"/>\n",
       "<text font-family=\"Times,serif\" font-size=\"14.00\" text-anchor=\"middle\" x=\"108.505\" y=\"-379.3\">conv0: Conv2D</text>\n",
       "</g>\n",
       "<!-- 4799143496&#45;&gt;4799140752 -->\n",
       "<g class=\"edge\" id=\"edge2\"><title>4799143496-&gt;4799140752</title>\n",
       "<path d=\"M108.505,-438.313C108.505,-430.289 108.505,-420.547 108.505,-411.569\" fill=\"none\" stroke=\"black\"/>\n",
       "<polygon fill=\"black\" points=\"112.005,-411.529 108.505,-401.529 105.005,-411.529 112.005,-411.529\" stroke=\"black\"/>\n",
       "</g>\n",
       "<!-- 4799139912 -->\n",
       "<g class=\"node\" id=\"node4\"><title>4799139912</title>\n",
       "<polygon fill=\"none\" points=\"29.5518,-292.5 29.5518,-328.5 187.459,-328.5 187.459,-292.5 29.5518,-292.5\" stroke=\"black\"/>\n",
       "<text font-family=\"Times,serif\" font-size=\"14.00\" text-anchor=\"middle\" x=\"108.505\" y=\"-306.3\">bn0: BatchNormalization</text>\n",
       "</g>\n",
       "<!-- 4799140752&#45;&gt;4799139912 -->\n",
       "<g class=\"edge\" id=\"edge3\"><title>4799140752-&gt;4799139912</title>\n",
       "<path d=\"M108.505,-365.313C108.505,-357.289 108.505,-347.547 108.505,-338.569\" fill=\"none\" stroke=\"black\"/>\n",
       "<polygon fill=\"black\" points=\"112.005,-338.529 108.505,-328.529 105.005,-338.529 112.005,-338.529\" stroke=\"black\"/>\n",
       "</g>\n",
       "<!-- 4892658768 -->\n",
       "<g class=\"node\" id=\"node5\"><title>4892658768</title>\n",
       "<polygon fill=\"none\" points=\"33.0449,-219.5 33.0449,-255.5 183.966,-255.5 183.966,-219.5 33.0449,-219.5\" stroke=\"black\"/>\n",
       "<text font-family=\"Times,serif\" font-size=\"14.00\" text-anchor=\"middle\" x=\"108.505\" y=\"-233.3\">activation_1: Activation</text>\n",
       "</g>\n",
       "<!-- 4799139912&#45;&gt;4892658768 -->\n",
       "<g class=\"edge\" id=\"edge4\"><title>4799139912-&gt;4892658768</title>\n",
       "<path d=\"M108.505,-292.313C108.505,-284.289 108.505,-274.547 108.505,-265.569\" fill=\"none\" stroke=\"black\"/>\n",
       "<polygon fill=\"black\" points=\"112.005,-265.529 108.505,-255.529 105.005,-265.529 112.005,-265.529\" stroke=\"black\"/>\n",
       "</g>\n",
       "<!-- 4892659384 -->\n",
       "<g class=\"node\" id=\"node6\"><title>4892659384</title>\n",
       "<polygon fill=\"none\" points=\"25.645,-146.5 25.645,-182.5 191.366,-182.5 191.366,-146.5 25.645,-146.5\" stroke=\"black\"/>\n",
       "<text font-family=\"Times,serif\" font-size=\"14.00\" text-anchor=\"middle\" x=\"108.505\" y=\"-160.3\">max_pool: MaxPooling2D</text>\n",
       "</g>\n",
       "<!-- 4892658768&#45;&gt;4892659384 -->\n",
       "<g class=\"edge\" id=\"edge5\"><title>4892658768-&gt;4892659384</title>\n",
       "<path d=\"M108.505,-219.313C108.505,-211.289 108.505,-201.547 108.505,-192.569\" fill=\"none\" stroke=\"black\"/>\n",
       "<polygon fill=\"black\" points=\"112.005,-192.529 108.505,-182.529 105.005,-192.529 112.005,-192.529\" stroke=\"black\"/>\n",
       "</g>\n",
       "<!-- 4388406944 -->\n",
       "<g class=\"node\" id=\"node7\"><title>4388406944</title>\n",
       "<polygon fill=\"none\" points=\"52.8726,-73.5 52.8726,-109.5 164.138,-109.5 164.138,-73.5 52.8726,-73.5\" stroke=\"black\"/>\n",
       "<text font-family=\"Times,serif\" font-size=\"14.00\" text-anchor=\"middle\" x=\"108.505\" y=\"-87.3\">flatten_1: Flatten</text>\n",
       "</g>\n",
       "<!-- 4892659384&#45;&gt;4388406944 -->\n",
       "<g class=\"edge\" id=\"edge6\"><title>4892659384-&gt;4388406944</title>\n",
       "<path d=\"M108.505,-146.313C108.505,-138.289 108.505,-128.547 108.505,-119.569\" fill=\"none\" stroke=\"black\"/>\n",
       "<polygon fill=\"black\" points=\"112.005,-119.529 108.505,-109.529 105.005,-119.529 112.005,-119.529\" stroke=\"black\"/>\n",
       "</g>\n",
       "<!-- 4892945376 -->\n",
       "<g class=\"node\" id=\"node8\"><title>4892945376</title>\n",
       "<polygon fill=\"none\" points=\"73.8794,-0.5 73.8794,-36.5 143.131,-36.5 143.131,-0.5 73.8794,-0.5\" stroke=\"black\"/>\n",
       "<text font-family=\"Times,serif\" font-size=\"14.00\" text-anchor=\"middle\" x=\"108.505\" y=\"-14.3\">fc: Dense</text>\n",
       "</g>\n",
       "<!-- 4388406944&#45;&gt;4892945376 -->\n",
       "<g class=\"edge\" id=\"edge7\"><title>4388406944-&gt;4892945376</title>\n",
       "<path d=\"M108.505,-73.3129C108.505,-65.2895 108.505,-55.5475 108.505,-46.5691\" fill=\"none\" stroke=\"black\"/>\n",
       "<polygon fill=\"black\" points=\"112.005,-46.5288 108.505,-36.5288 105.005,-46.5289 112.005,-46.5288\" stroke=\"black\"/>\n",
       "</g>\n",
       "</g>\n",
       "</svg>"
      ],
      "text/plain": [
       "<IPython.core.display.SVG object>"
      ]
     },
     "execution_count": 9,
     "metadata": {},
     "output_type": "execute_result"
    }
   ],
   "source": [
    "plot_model(happyModel, to_file='HappyModel.png')\n",
    "SVG(model_to_dot(happyModel).create(prog='dot', format='svg'))"
   ]
  },
  {
   "cell_type": "code",
   "execution_count": null,
   "metadata": {
    "collapsed": true
   },
   "outputs": [],
   "source": []
  }
 ],
 "metadata": {
  "kernelspec": {
   "display_name": "Python 3",
   "language": "python",
   "name": "python3"
  },
  "language_info": {
   "codemirror_mode": {
    "name": "ipython",
    "version": 3
   },
   "file_extension": ".py",
   "mimetype": "text/x-python",
   "name": "python",
   "nbconvert_exporter": "python",
   "pygments_lexer": "ipython3",
   "version": "3.6.1"
  }
 },
 "nbformat": 4,
 "nbformat_minor": 2
}
